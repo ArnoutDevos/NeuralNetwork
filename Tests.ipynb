{
 "cells": [
  {
   "cell_type": "code",
   "execution_count": null,
   "metadata": {},
   "outputs": [],
   "source": [
    "from nn.layers import *\n",
    "from nn.models import *\n",
    "from nn.optimization import *"
   ]
  },
  {
   "cell_type": "code",
   "execution_count": null,
   "metadata": {},
   "outputs": [],
   "source": []
  },
  {
   "cell_type": "code",
   "execution_count": null,
   "metadata": {},
   "outputs": [],
   "source": []
  },
  {
   "cell_type": "code",
   "execution_count": null,
   "metadata": {},
   "outputs": [],
   "source": []
  },
  {
   "cell_type": "code",
   "execution_count": 1,
   "metadata": {},
   "outputs": [],
   "source": [
    "from nn.train import *\n",
    "from ml.proj1_helpers import load_csv_data, create_csv_submission, predict_labels, build_poly"
   ]
  },
  {
   "cell_type": "code",
   "execution_count": null,
   "metadata": {},
   "outputs": [],
   "source": []
  },
  {
   "cell_type": "code",
   "execution_count": 2,
   "metadata": {},
   "outputs": [],
   "source": [
    "y_train, x_train, id_train = load_csv_data(\"data/train.csv\")\n"
   ]
  },
  {
   "cell_type": "code",
   "execution_count": 3,
   "metadata": {},
   "outputs": [],
   "source": [
    "y_test, x_test, id_test  = load_csv_data(\"data/test.csv\")"
   ]
  },
  {
   "cell_type": "code",
   "execution_count": 4,
   "metadata": {},
   "outputs": [],
   "source": [
    "y_pred, _, id_pred = load_csv_data(\"data/sample-submission.csv\")"
   ]
  },
  {
   "cell_type": "code",
   "execution_count": 5,
   "metadata": {},
   "outputs": [],
   "source": [
    "x_train_p = x_train\n",
    "x_test_p = x_test"
   ]
  },
  {
   "cell_type": "code",
   "execution_count": null,
   "metadata": {},
   "outputs": [],
   "source": [
    "import datetime\n",
    "\n",
    "def pre_processing(x, tbd_value, switch_type = \"mean\"):\n",
    "    # TODO optimize and try without 2 forloops\n",
    "    start_time = datetime.datetime.now()\n",
    "    D = len(x[0])\n",
    "    res = x.copy()\n",
    "    for i in range(D):\n",
    "        x_col = x[:,i]\n",
    "        x_i = [k if k != tbd_value else np.NaN for k in x_col]\n",
    "        res[:,i] = x_i\n",
    "        \n",
    "        if switch_type == \"mean\":\n",
    "            value = np.nanmean(x_i)\n",
    "            mask = np.isnan(x_i)\n",
    "            res[mask,i] = value\n",
    "\n",
    "        if switch_type == \"most\":\n",
    "            '''\n",
    "            Returns the most common value\n",
    "            '''\n",
    "            u, indices = np.unique(x_i, return_inverse=True)\n",
    "            value = u[np.argmax(np.bincount(indices))]\n",
    "            assert value != np.nan, \"most values are unknown in colum {}\".format(i+1)\n",
    "            mask = np.isnan(x_i)\n",
    "            res[mask,i] = value\n",
    "            \n",
    "            \n",
    "    end_time = datetime.datetime.now()\n",
    "    exection_time = (end_time - start_time).total_seconds()\n",
    "    print(\"Preprocessing : execution time={t:.3f} seconds\".format(t=exection_time))\n",
    "    \n",
    "    return res\n",
    "\n",
    "x_train_p = pre_processing(x_train, -999, switch_type = \"mean\")\n",
    "x_test_p = pre_processing(x_test, -999, switch_type = \"mean\")"
   ]
  },
  {
   "cell_type": "code",
   "execution_count": 6,
   "metadata": {},
   "outputs": [
    {
     "name": "stdout",
     "output_type": "stream",
     "text": [
      "(250000, 30)\n",
      "(250000,)\n"
     ]
    }
   ],
   "source": [
    "\n",
    "\n",
    "print(x_train.shape)\n",
    "print(y_train.shape)"
   ]
  },
  {
   "cell_type": "code",
   "execution_count": 7,
   "metadata": {},
   "outputs": [
    {
     "name": "stdout",
     "output_type": "stream",
     "text": [
      "[ 1. -1. -1. -1. -1. -1.  1.  1. -1.  1. -1. -1. -1. -1. -1.  1. -1.  1.\n",
      " -1. -1.]\n"
     ]
    }
   ],
   "source": [
    "print(y_train[0:20])"
   ]
  },
  {
   "cell_type": "code",
   "execution_count": 8,
   "metadata": {},
   "outputs": [
    {
     "name": "stdout",
     "output_type": "stream",
     "text": [
      "(568238, 30)\n",
      "(568238,)\n"
     ]
    }
   ],
   "source": [
    "print(x_test.shape)\n",
    "print(y_test.shape)"
   ]
  },
  {
   "cell_type": "code",
   "execution_count": 9,
   "metadata": {},
   "outputs": [
    {
     "name": "stdout",
     "output_type": "stream",
     "text": [
      "(568238,)\n"
     ]
    }
   ],
   "source": [
    "print(y_pred.shape)"
   ]
  },
  {
   "cell_type": "code",
   "execution_count": 10,
   "metadata": {},
   "outputs": [],
   "source": [
    "N_train = x_train.shape[0]\n",
    "N_test  = x_test.shape[0]"
   ]
  },
  {
   "cell_type": "code",
   "execution_count": null,
   "metadata": {},
   "outputs": [],
   "source": []
  },
  {
   "cell_type": "code",
   "execution_count": 11,
   "metadata": {},
   "outputs": [],
   "source": [
    "# Neural Net"
   ]
  },
  {
   "cell_type": "code",
   "execution_count": 12,
   "metadata": {},
   "outputs": [
    {
     "name": "stdout",
     "output_type": "stream",
     "text": [
      "(Iteration 1 / 25000.0) loss: 0.687630408442117\n",
      "(Epoch 1 / 100) Training Accuracy: 0.657332\n",
      "(Epoch 2 / 100) Training Accuracy: 0.68796\n",
      "(Epoch 3 / 100) Training Accuracy: 0.700596\n",
      "(Epoch 4 / 100) Training Accuracy: 0.703908\n",
      "(Epoch 5 / 100) Training Accuracy: 0.708236\n",
      "(Epoch 6 / 100) Training Accuracy: 0.709248\n",
      "(Epoch 7 / 100) Training Accuracy: 0.710308\n",
      "(Epoch 8 / 100) Training Accuracy: 0.712252\n",
      "(Epoch 9 / 100) Training Accuracy: 0.711012\n",
      "(Epoch 10 / 100) Training Accuracy: 0.714652\n",
      "(Epoch 11 / 100) Training Accuracy: 0.676044\n",
      "(Epoch 12 / 100) Training Accuracy: 0.720392\n",
      "(Epoch 13 / 100) Training Accuracy: 0.712584\n",
      "(Epoch 14 / 100) Training Accuracy: 0.730608\n",
      "(Epoch 15 / 100) Training Accuracy: 0.714044\n",
      "(Epoch 16 / 100) Training Accuracy: 0.733388\n",
      "(Epoch 17 / 100) Training Accuracy: 0.729936\n",
      "(Epoch 18 / 100) Training Accuracy: 0.700676\n",
      "(Epoch 19 / 100) Training Accuracy: 0.747284\n",
      "(Epoch 20 / 100) Training Accuracy: 0.753744\n",
      "(Epoch 21 / 100) Training Accuracy: 0.728372\n",
      "(Epoch 22 / 100) Training Accuracy: 0.724956\n",
      "(Epoch 23 / 100) Training Accuracy: 0.72746\n",
      "(Epoch 24 / 100) Training Accuracy: 0.740576\n",
      "(Epoch 25 / 100) Training Accuracy: 0.753428\n",
      "(Epoch 26 / 100) Training Accuracy: 0.735052\n",
      "(Epoch 27 / 100) Training Accuracy: 0.7\n",
      "(Epoch 28 / 100) Training Accuracy: 0.759912\n",
      "(Epoch 29 / 100) Training Accuracy: 0.759696\n",
      "(Epoch 30 / 100) Training Accuracy: 0.777928\n",
      "(Epoch 31 / 100) Training Accuracy: 0.784544\n",
      "(Epoch 32 / 100) Training Accuracy: 0.717584\n",
      "(Epoch 33 / 100) Training Accuracy: 0.731696\n",
      "(Epoch 34 / 100) Training Accuracy: 0.787684\n",
      "(Epoch 35 / 100) Training Accuracy: 0.738816\n",
      "(Epoch 36 / 100) Training Accuracy: 0.781624\n",
      "(Epoch 37 / 100) Training Accuracy: 0.755736\n",
      "(Epoch 38 / 100) Training Accuracy: 0.779076\n",
      "(Epoch 39 / 100) Training Accuracy: 0.785936\n",
      "(Epoch 40 / 100) Training Accuracy: 0.743516\n",
      "(Epoch 41 / 100) Training Accuracy: 0.769076\n",
      "(Epoch 42 / 100) Training Accuracy: 0.792324\n",
      "(Epoch 43 / 100) Training Accuracy: 0.754596\n",
      "(Epoch 44 / 100) Training Accuracy: 0.771152\n",
      "(Epoch 45 / 100) Training Accuracy: 0.78808\n",
      "(Epoch 46 / 100) Training Accuracy: 0.784448\n",
      "(Epoch 47 / 100) Training Accuracy: 0.72976\n",
      "(Epoch 48 / 100) Training Accuracy: 0.787132\n",
      "(Epoch 49 / 100) Training Accuracy: 0.7937\n",
      "(Epoch 50 / 100) Training Accuracy: 0.778496\n",
      "(Epoch 51 / 100) Training Accuracy: 0.776228\n",
      "(Epoch 52 / 100) Training Accuracy: 0.78882\n",
      "(Epoch 53 / 100) Training Accuracy: 0.795052\n",
      "(Epoch 54 / 100) Training Accuracy: 0.7592\n",
      "(Epoch 55 / 100) Training Accuracy: 0.776432\n",
      "(Epoch 56 / 100) Training Accuracy: 0.793364\n",
      "(Epoch 57 / 100) Training Accuracy: 0.793904\n",
      "(Epoch 58 / 100) Training Accuracy: 0.796212\n",
      "(Epoch 59 / 100) Training Accuracy: 0.785164\n",
      "(Epoch 60 / 100) Training Accuracy: 0.794272\n",
      "(Epoch 61 / 100) Training Accuracy: 0.793752\n",
      "(Epoch 62 / 100) Training Accuracy: 0.78902\n",
      "(Epoch 63 / 100) Training Accuracy: 0.749032\n",
      "(Epoch 64 / 100) Training Accuracy: 0.793564\n",
      "(Epoch 65 / 100) Training Accuracy: 0.77392\n",
      "(Epoch 66 / 100) Training Accuracy: 0.776352\n",
      "(Epoch 67 / 100) Training Accuracy: 0.799328\n",
      "(Epoch 68 / 100) Training Accuracy: 0.781972\n",
      "(Epoch 69 / 100) Training Accuracy: 0.795292\n",
      "(Epoch 70 / 100) Training Accuracy: 0.793272\n",
      "(Epoch 71 / 100) Training Accuracy: 0.78904\n",
      "(Epoch 72 / 100) Training Accuracy: 0.787416\n",
      "(Epoch 73 / 100) Training Accuracy: 0.795908\n",
      "(Epoch 74 / 100) Training Accuracy: 0.799108\n",
      "(Epoch 75 / 100) Training Accuracy: 0.8021\n",
      "(Epoch 76 / 100) Training Accuracy: 0.795268\n",
      "(Epoch 77 / 100) Training Accuracy: 0.790572\n",
      "(Epoch 78 / 100) Training Accuracy: 0.7804\n",
      "(Epoch 79 / 100) Training Accuracy: 0.790472\n",
      "(Epoch 80 / 100) Training Accuracy: 0.784812\n",
      "(Epoch 81 / 100) Training Accuracy: 0.79746\n",
      "(Epoch 82 / 100) Training Accuracy: 0.801584\n",
      "(Epoch 83 / 100) Training Accuracy: 0.796144\n",
      "(Epoch 84 / 100) Training Accuracy: 0.75048\n",
      "(Epoch 85 / 100) Training Accuracy: 0.79536\n",
      "(Epoch 86 / 100) Training Accuracy: 0.795284\n",
      "(Epoch 87 / 100) Training Accuracy: 0.801156\n",
      "(Epoch 88 / 100) Training Accuracy: 0.789072\n",
      "(Epoch 89 / 100) Training Accuracy: 0.80258\n",
      "(Epoch 90 / 100) Training Accuracy: 0.800948\n",
      "(Epoch 91 / 100) Training Accuracy: 0.801696\n",
      "(Epoch 92 / 100) Training Accuracy: 0.800876\n",
      "(Epoch 93 / 100) Training Accuracy: 0.798772\n",
      "(Epoch 94 / 100) Training Accuracy: 0.796728\n",
      "(Epoch 95 / 100) Training Accuracy: 0.8065\n",
      "(Epoch 96 / 100) Training Accuracy: 0.799908\n",
      "(Epoch 97 / 100) Training Accuracy: 0.790488\n",
      "(Epoch 98 / 100) Training Accuracy: 0.802912\n",
      "(Epoch 99 / 100) Training Accuracy: 0.805016\n",
      "(Epoch 100 / 100) Training Accuracy: 0.800804\n"
     ]
    }
   ],
   "source": [
    "model = smallFullyConnected()\n",
    "loss_func = cross_entropy()\n",
    "optimizer = optimizer = SGD(model.net, 1e-2)\n",
    "batch_size = 1000\n",
    "max_epochs = 100\n",
    "\n",
    "y_train[y_train == -1] = 0\n",
    "\n",
    "losses, weights = train_net(y_train, x_train_p, model, loss_func, optimizer, batch_size, max_epochs, show_every = 50000)"
   ]
  },
  {
   "cell_type": "code",
   "execution_count": null,
   "metadata": {},
   "outputs": [],
   "source": [
    "y_pred = predict(model, x_test_p, batch_size)\n",
    "\n",
    "y_pred[y_pred == 0] = -1\n",
    "\n",
    "create_csv_submission(id_pred, y_pred, \"data/submission_neural_net.csv\")"
   ]
  },
  {
   "cell_type": "code",
   "execution_count": null,
   "metadata": {},
   "outputs": [],
   "source": [
    "print(x_test.shape)\n",
    "print(y_pred.shape)\n"
   ]
  },
  {
   "cell_type": "code",
   "execution_count": null,
   "metadata": {},
   "outputs": [],
   "source": [
    "print(y_train.shape)\n",
    "print(x_train.shape)"
   ]
  },
  {
   "cell_type": "code",
   "execution_count": null,
   "metadata": {},
   "outputs": [],
   "source": [
    "labels = np.array([1, 0 ,1])\n",
    "data = np.array([[1, 2, 3, 4], [5, 5, 5, 5] ,[1, 2, 3, 4]])\n",
    "\n",
    "print(\"labels\")\n",
    "print(labels)\n",
    "print(\"data\")\n",
    "print(data)\n",
    "\n",
    "for a,b in batch_iter(labels, data, batch_size=1, num_batches=3, shuffle = False):\n",
    "    print(\"label\")\n",
    "    print(a)\n",
    "    print(\"data\")\n",
    "    print(b)\n",
    "    print(\"\\n\")"
   ]
  },
  {
   "cell_type": "code",
   "execution_count": null,
   "metadata": {},
   "outputs": [],
   "source": []
  }
 ],
 "metadata": {
  "kernelspec": {
   "display_name": "Python venv3.7",
   "language": "python",
   "name": "venv3.7"
  },
  "language_info": {
   "codemirror_mode": {
    "name": "ipython",
    "version": 3
   },
   "file_extension": ".py",
   "mimetype": "text/x-python",
   "name": "python",
   "nbconvert_exporter": "python",
   "pygments_lexer": "ipython3",
   "version": "3.7.0"
  }
 },
 "nbformat": 4,
 "nbformat_minor": 2
}
